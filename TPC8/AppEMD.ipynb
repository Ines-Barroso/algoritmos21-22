{
 "cells": [
  {
   "cell_type": "code",
   "execution_count": 1,
   "metadata": {},
   "outputs": [
    {
     "name": "stdout",
     "output_type": "stream",
     "text": [
      "Requirement already satisfied: PySimpleGUI in /Library/Frameworks/Python.framework/Versions/3.9/lib/python3.9/site-packages (4.55.1)\n",
      "\u001b[33mWARNING: You are using pip version 20.2.3; however, version 21.3.1 is available.\n",
      "You should consider upgrading via the '/usr/local/bin/python3 -m pip install --upgrade pip' command.\u001b[0m\n",
      "Note: you may need to restart the kernel to use updated packages.\n"
     ]
    }
   ],
   "source": [
    "pip install PySimpleGUI"
   ]
  },
  {
   "cell_type": "code",
   "execution_count": 2,
   "metadata": {},
   "outputs": [],
   "source": [
    "import PySimpleGUI as sg\n",
    "import EMDmodulo as emd\n",
    "\n",
    "conteudo = []\n",
    "\n",
    "interfacePrincipal = [\n",
    "    [sg.Text(size = (50, 1), key=\"-Dados-\")], #primeira linha será uma de texto\n",
    "    [sg.Button(\"Carregar Base de dados\"), sg.Button(\"Listar base de dados\")], # segunda linha tera 2 botoes\n",
    "    [sg.Button(\"Modalidades\"),sg.Button(\"Distribuições\"), sg.Button(\"Limpar\"), sg.Button(\"Sair\")], # terceira linha 4 botoes\n",
    "    [sg.Listbox(values = conteudo, size=(40,10), key = \"_cont\")] # quarta linha sera um retangulo branco com o conteudo\n",
    "]   \n",
    "\n",
    "#janela principal\n",
    "windowP = sg.Window(title=\"Exames médicos desportivos\", font=\"Helvetica 24\" , default_element_size=(50,10)).Layout(interfacePrincipal)\n",
    "\n",
    "#funcao especifica das distribuicoes ira aparecer uma nova janela\n",
    "def interfaceDistribuicoes():\n",
    "    distr = []\n",
    "    novainterface = [\n",
    "        [sg.Text(\"De que pretende que seja a sua distribuição?\")],\n",
    "        [sg.Button(\"Modalidades\"), sg.Button(\"Clube\"), sg.Button(\"Ano\"), sg.Button(\"Gráfico\")],\n",
    "        [sg.Listbox(values = distr, size = (36,10), key = \"_cont2\")],\n",
    "        [sg.Button(\"Sair\")]\n",
    "    ]\n",
    "    \n",
    "    windowD = sg.Window(title=\"Janela de Distribuições\", font=\"Arial 20\" , default_element_size=(36,1)).Layout(novainterface)\n",
    "    \n",
    "    stop = False\n",
    "    while not stop:\n",
    "        event2, values2 = windowD.read()\n",
    "        if event2 == \"Sair\" or event2 == sg.WIN_CLOSED:\n",
    "            stop = True \n",
    "\n",
    "        elif event2 == \"Modalidades\":\n",
    "            distr = [emd.distribPorModalidade()]\n",
    "            windowD[\"_cont2\"].Update(values = distr)\n",
    "            x = \"Modalidade\"\n",
    "\n",
    "        elif event2 == \"Clube\":\n",
    "            distr = [emd.distribPorClube()]\n",
    "            windowD[\"_cont2\"].Update(values = distr)\n",
    "            x = \"Clube\"\n",
    "\n",
    "        elif event2 == \"Ano\":\n",
    "            distr = [emd.distribPorAno()]\n",
    "            windowD[\"_cont2\"].Update(values = distr)\n",
    "            x = \"Ano\"\n",
    "\n",
    "        elif event2 == \"Gráfico\": #nao sei como o incluir na janela\n",
    "            distr = [emd.plotDistrib(x)]\n",
    "            windowD[\"_cont2\"].Update(values = distr)\n",
    "\n",
    "    windowD.close()\n",
    "\n",
    "#voltando a janela principal    \n",
    "stop = False\n",
    "while not stop:\n",
    "    event,values = windowP.read()\n",
    "    BD = emd.lerDataset()\n",
    "    if event == \"Sair\" or event == sg.WIN_CLOSED:\n",
    "        stop=True\n",
    "    \n",
    "    elif event == \"Carregar Base de dados\":\n",
    "        contador = len(BD)\n",
    "        dados = \"Foram carregados \" + str(contador) + \" exames médicos.\"\n",
    "        windowP[\"-Dados-\"].update(dados)\n",
    "        \n",
    "    elif event == \"Listar base de dados\":\n",
    "        dados = [\"{:<14} {:<20} {:<25} {:<8}\".format('Id','Data','Nome','Apto')]\n",
    "        for registo in BD:\n",
    "            nome = registo [2] + \" \" + registo [3]\n",
    "            dados.append(\"{:<10} {:<15} {:<25} {:<8}\".format(registo[0],registo [1],nome,registo[11]) )\n",
    "        windowP[\"_cont\"].Update(values=dados)\n",
    "    elif event == \"Limpar\":\n",
    "        conteudo = []\n",
    "        windowP[\"_cont\"].Update(values=conteudo)\n",
    "    \n",
    "    elif event == \"Modalidades\":\n",
    "        conteudo = emd.modalidades()\n",
    "        windowP[\"_cont\"].Update(values=conteudo)\n",
    "    \n",
    "    elif event == \"Distribuições\":\n",
    "        interfaceDistribuicoes()\n",
    "\n",
    "\n",
    "windowP.close()"
   ]
  }
 ],
 "metadata": {
  "interpreter": {
   "hash": "aee8b7b246df8f9039afb4144a1f6fd8d2ca17a180786b69acc140d282b71a49"
  },
  "kernelspec": {
   "display_name": "Python 3.9.0 64-bit",
   "language": "python",
   "name": "python3"
  },
  "language_info": {
   "codemirror_mode": {
    "name": "ipython",
    "version": 3
   },
   "file_extension": ".py",
   "mimetype": "text/x-python",
   "name": "python",
   "nbconvert_exporter": "python",
   "pygments_lexer": "ipython3",
   "version": "3.9.0"
  },
  "orig_nbformat": 4
 },
 "nbformat": 4,
 "nbformat_minor": 2
}
