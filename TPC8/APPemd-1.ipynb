{
 "cells": [
  {
   "cell_type": "code",
   "execution_count": 1,
   "metadata": {},
   "outputs": [
    {
     "name": "stdout",
     "output_type": "stream",
     "text": [
      "Requirement already satisfied: pysimplegui in /Library/Frameworks/Python.framework/Versions/3.9/lib/python3.9/site-packages (4.55.1)\n",
      "\u001b[33mWARNING: You are using pip version 20.2.3; however, version 21.3.1 is available.\n",
      "You should consider upgrading via the '/usr/local/bin/python3 -m pip install --upgrade pip' command.\u001b[0m\n",
      "Note: you may need to restart the kernel to use updated packages.\n"
     ]
    }
   ],
   "source": [
    "pip install PySimpleGUI"
   ]
  },
  {
   "cell_type": "code",
   "execution_count": null,
   "metadata": {},
   "outputs": [],
   "source": [
    "import PySimpleGUI as sg\n",
    "import EMDmodulo as emd\n",
    "\n",
    "myBD = emd.lerDataset()\n",
    "\n",
    "# Painel com duas colunas: \n",
    "# Coluna 1: menu\n",
    "# Coluna 2: Dados\n",
    "\n",
    "def listModalidades():\n",
    "    modalidades = emd.modalidades()\n",
    "    M = []\n",
    "    for m in modalidades:\n",
    "        M.append(m)\n",
    "    \n",
    "\n",
    "\n",
    "menu_list_column = [\n",
    "    [sg.Button(\"Carregar\")],\n",
    "    [sg.Button(\"Listar\")],\n",
    "    [sg.Button(\"Modalidades\")],\n",
    "    [sg.Button(\"Distribuição por ano\")],\n",
    "    [sg.Button(\"Distribuição por Clube\")],\n",
    "    [sg.Button(\"Sair\")]\n",
    "]\n",
    "\n",
    "data_viewer_column = [\n",
    "    [sg.Text(\"Painel de Dados\")],\n",
    "    [sg.Text(size=(100, 50), key=\"-Dados-\")],\n",
    "    [sg.Listbox(values = listModalidades(), size=(80,20), key=\"-lista\")]\n",
    "]\n",
    "\n",
    "# ----- Full layout -----\n",
    "layout = [\n",
    "    [\n",
    "        sg.Column(menu_list_column), #vai buscar a lista do menu\n",
    "        sg.VSeperator(), #separador vertical\n",
    "        sg.Column(data_viewer_column), # vai buscar a lista dos dados\n",
    "    ]\n",
    "]\n",
    "\n",
    "window = sg.Window(\"Sample App\", font=\"Helvetiva 24\", \n",
    "                    default_element_size=(20,1)).Layout(layout)\n",
    "\n",
    "# Run the Event Loop\n",
    "stop = False\n",
    "while not stop:\n",
    "    event, values = window.read()\n",
    "    if event == \"Sair\" or event == sg.WIN_CLOSED:\n",
    "        stop = True\n",
    "    # Folder name was filled in, make a list of files in the folder\n",
    "    elif event == \"Carregar\":\n",
    "        contador = len(myBD)\n",
    "        dados = \"Foram carregados \" + str(contador) + \" exames médicos.\"\n",
    "        window[\"-Dados-\"].update(dados)\n",
    "    elif event == \"Listar\":  \n",
    "        tabela = emd.listarDataset()\n",
    "        window[\"-Dados-\"].update(tabela)\n",
    "    elif event == \"Modalidades\":  \n",
    "        grafico = emd.plotDistribPorModalidade()\n",
    "        window[\"-lista-\"].update(values)\n",
    "        window[\"-Dados-\"].update(grafico)\n",
    "    elif event == \"Distribuição por Ano\":  \n",
    "        ano = emd.plotDistrib(\"Ano\")\n",
    "        window[\"-Dados-\"].update(ano)\n",
    "    elif event == \"Distribuição por Clube\":  \n",
    "        clube = emd.plotDistrib(\"Clube\")\n",
    "        window[\"-Dados-\"].update(clube)\n",
    "    else:\n",
    "        window[\"-Dados-\"].update(\"Erro: evento desconhecido\" + event)\n",
    "\n",
    "window.close()"
   ]
  },
  {
   "cell_type": "code",
   "execution_count": null,
   "metadata": {},
   "outputs": [],
   "source": []
  }
 ],
 "metadata": {
  "interpreter": {
   "hash": "aee8b7b246df8f9039afb4144a1f6fd8d2ca17a180786b69acc140d282b71a49"
  },
  "kernelspec": {
   "display_name": "Python 3.9.0 64-bit",
   "language": "python",
   "name": "python3"
  },
  "language_info": {
   "codemirror_mode": {
    "name": "ipython",
    "version": 3
   },
   "file_extension": ".py",
   "mimetype": "text/x-python",
   "name": "python",
   "nbconvert_exporter": "python",
   "pygments_lexer": "ipython3",
   "version": "3.9.0"
  },
  "orig_nbformat": 4
 },
 "nbformat": 4,
 "nbformat_minor": 2
}
