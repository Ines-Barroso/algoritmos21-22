{
 "cells": [
  {
   "cell_type": "code",
   "execution_count": 4,
   "metadata": {},
   "outputs": [
    {
     "name": "stdin",
     "output_type": "stream",
     "text": [
      "Quer ser o jogador 1 ou 2? 2\n"
     ]
    },
    {
     "name": "stdout",
     "output_type": "stream",
     "text": [
      "O adversario jogou: 3\n",
      "Sobram: 18 fosforos.\n"
     ]
    },
    {
     "name": "stdin",
     "output_type": "stream",
     "text": [
      "Escolha um numero de 1 a 4:  2\n"
     ]
    },
    {
     "name": "stdout",
     "output_type": "stream",
     "text": [
      "Sobram 16 fosforos.\n",
      "O adversario jogou: 3\n",
      "Sobram: 13 fosforos.\n"
     ]
    },
    {
     "name": "stdin",
     "output_type": "stream",
     "text": [
      "Escolha um numero de 1 a 4:  1\n"
     ]
    },
    {
     "name": "stdout",
     "output_type": "stream",
     "text": [
      "Sobram 12 fosforos.\n",
      "O adversario jogou: 1\n",
      "Sobram: 11 fosforos.\n"
     ]
    },
    {
     "name": "stdin",
     "output_type": "stream",
     "text": [
      "Escolha um numero de 1 a 4:  4\n"
     ]
    },
    {
     "name": "stdout",
     "output_type": "stream",
     "text": [
      "Sobram 7 fosforos.\n",
      "O adversario jogou: 1\n",
      "Sobram: 6 fosforos.\n"
     ]
    },
    {
     "name": "stdin",
     "output_type": "stream",
     "text": [
      "Escolha um numero de 1 a 4:  3\n"
     ]
    },
    {
     "name": "stdout",
     "output_type": "stream",
     "text": [
      "Sobram 3 fosforos.\n",
      "O adversario jogou: 2\n",
      "Sobram: 1 fosforos.\n",
      "O jogador 1 ganhou!\n"
     ]
    },
    {
     "name": "stdin",
     "output_type": "stream",
     "text": [
      "Quer jogar de novo? nao\n"
     ]
    },
    {
     "name": "stdout",
     "output_type": "stream",
     "text": [
      "Obrigado por ter jogado!\n"
     ]
    }
   ],
   "source": [
    "import random\n",
    "\n",
    "def menu():\n",
    "    escolha = input(\"Quer jogar de novo?\")\n",
    "    escolha = escolha.upper()\n",
    "    if escolha == \"SIM\":\n",
    "        fosforos()\n",
    "    else:\n",
    "        print(\"Obrigado por ter jogado!\")\n",
    "\n",
    "def fosforos():\n",
    " n = 21\n",
    " jogador = input (\"Quer ser o jogador 1 ou 2?\")\n",
    " if jogador == \"1\":\n",
    "    while n!= 1:\n",
    "        j1 = int(input(\"Escolha um numero de 1 a 4: \"))\n",
    "        if j1 > 4 or j1 < 1:\n",
    "            print (\"Jogada invalida. Tente novamente.\")\n",
    "        else:\n",
    "            n = n-j1\n",
    "            print (\"Sobram: \" + str(n) + \" fosforos.\")\n",
    "            j2 = 5-j1\n",
    "            n = n-j2\n",
    "            print (\"O adversario jogou: \" + str(j2) + \"\\n\" + \"Sobram: \" + str(n) + \" fosforos.\")\n",
    "    print (\"O jogador 2 ganhou!\")        \n",
    " elif jogador == \"2\":\n",
    "    j1 = random.randint(1, 4)\n",
    "    n = n-j1\n",
    "    print (\"O adversario jogou: \" + str(j1) + \"\\n\" + \"Sobram: \" + str(n) + \" fosforos.\")\n",
    "    while n > 1:\n",
    "        j2 = int(input(\"Escolha um numero de 1 a 4: \"))\n",
    "        if j2 > 4 or j2 < 1:\n",
    "            print (\"Jogada invalida. Tente novamente.\")\n",
    "        else:\n",
    "            n = n-j2\n",
    "            print (\"Sobram \" + str(n) + \" fosforos.\")\n",
    "            if n == 1:\n",
    "                print (\"Parabens! Ganhou o jogo!\")\n",
    "            elif n <= 5 and n > 1:\n",
    "                j1 = n-1\n",
    "                n = n-j1\n",
    "                print (\"O adversario jogou: \" + str(j1) + \"\\n\" + \"Sobram: \" + str(n) + \" fosforos.\" + \"\\n\" + \"O jogador 1 ganhou!\")\n",
    "            elif j1+j2 < 5:\n",
    "                j1 = 5-(j1+j2)\n",
    "                n = (n-j1)\n",
    "                print (\"O adversario jogou: \" + str(j1) + \"\\n\" + \"Sobram: \" + str(n) + \" fosforos.\")\n",
    "                if n == 1:\n",
    "                    print (\"O jogador 1 ganhou!\")\n",
    "            else:\n",
    "                j1 = 5-j2\n",
    "                n = n-j1\n",
    "                print(\"O adversario jogou: \" + str(j1) + \"\\n\" + \"Sobram: \" + str(n) + \" fosforos.\")\n",
    "                if n == 1 : \n",
    "                    print (\"O jogador 1 ganhou!\")\n",
    " menu()                    \n",
    "fosforos()                "
   ]
  },
  {
   "cell_type": "code",
   "execution_count": null,
   "metadata": {},
   "outputs": [],
   "source": []
  }
 ],
 "metadata": {
  "kernelspec": {
   "display_name": "Python 3",
   "language": "python",
   "name": "python3"
  },
  "language_info": {
   "codemirror_mode": {
    "name": "ipython",
    "version": 3
   },
   "file_extension": ".py",
   "mimetype": "text/x-python",
   "name": "python",
   "nbconvert_exporter": "python",
   "pygments_lexer": "ipython3",
   "version": "3.8.3"
  }
 },
 "nbformat": 4,
 "nbformat_minor": 4
}
