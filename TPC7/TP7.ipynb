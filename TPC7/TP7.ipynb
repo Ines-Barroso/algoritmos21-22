{
 "cells": [
  {
   "cell_type": "markdown",
   "metadata": {},
   "source": [
    "# TPC7\n",
    "# Processamento de datasets\n",
    "* __data iní­cio__: 2021-11-22\n",
    "* __data fim__: 2021-11-28\n",
    "* __autor__: Inês Maria Afonso Barroso, A95787\n",
    "* __resumo__: Para a realização deste tpc coloquei o dataset na mesma diretoria que este documento. O algoritmo permite ler o ficheiro _alunos.csv_ e retirar certas informações deste, através das várias funções criadas. A primeira função é a essencial, pois é nesta que obtemos a informação do ficheiro e a tranformamos numa base de dados com 3 dimensões __bd=[[id_aluno,nome,curso,[tpc1,tpc2,tpc3,tpc4]],....]__ podendo agora manusia-lo de uma melhor forma. Além do auxílio da aula prática, importei a biblioteca matplotlib.pyplot para realizar os gráficos e utilizei a funçao _format()_ do python para fazer uma tabela mais organizada."
   ]
  },
  {
   "cell_type": "markdown",
   "metadata": {},
   "source": [
    "\n",
    "\n",
    "### Estrutura do dataset\n",
    "O dataset tem a seguinte estrutura:\n",
    "\n",
    "```\n",
    "id_aluno,nome,curso,tpc1,tpc2,tpc3,tpc4\n",
    "\"a1\",\"Aysha Melanie Gilberto\",\"LEI\",12,8,19,8\n",
    "\"a2\",\"Igor AndrÃ© Cantanhede\",\"ENGFIS\",12,16,18,20\n",
    "\"a3\",\"LaurÃ©nio Narciso\",\"ENGFIS\",8,14,15,14\n",
    "\"a4\",\"Jasnoor Casegas\",\"LCC\",14,20,17,11\n",
    "\"a5\",\"Tawseef RebouÃ§as\",\"ENGBIOM\",13,14,13,17\n",
    "\"a6\",\"Eryk Clementino\",\"LEI\",10,19,11,14\n",
    "...\n",
    "```\n"
   ]
  },
  {
   "cell_type": "markdown",
   "metadata": {},
   "source": [
    "## Leitura (exercício 1)\n",
    "\n",
    "Depois de pensares num modelo adequado especifica a função que lê o ficheiro e povoa esse modelo."
   ]
  },
  {
   "cell_type": "code",
   "execution_count": 1,
   "metadata": {},
   "outputs": [
    {
     "data": {
      "text/plain": [
       "[['a1', 'Aysha Melanie Gilberto', 'LEI', [12, 8, 19, 8]],\n",
       " ['a2', 'Igor AndrÃ© Cantanhede', 'ENGFIS', [12, 16, 18, 20]],\n",
       " ['a3', 'LaurÃ©nio Narciso', 'ENGFIS', [8, 14, 15, 14]],\n",
       " ['a4', 'Jasnoor Casegas', 'LCC', [14, 20, 17, 11]],\n",
       " ['a5', 'Tawseef RebouÃ§as', 'ENGBIOM', [13, 14, 13, 17]],\n",
       " ['a6', 'Eryk Clementino', 'LEI', [10, 19, 11, 14]],\n",
       " ['a7', 'Ianna Noivo', 'ENGBIOM', [15, 15, 17, 16]],\n",
       " ['a8', 'Ayla Thaissa Reina', 'ENGBIOM', [12, 8, 8, 18]],\n",
       " ['a9', 'CÃ¡ssia Viviane CoitÃ£', 'ENGFIS', [19, 9, 14, 10]],\n",
       " ['a10', 'Koby Vindima', 'LEI', [9, 14, 20, 13]],\n",
       " ['a11', 'Gustavo Martim Hernandez', 'ENGBIOM', [11, 8, 14, 11]],\n",
       " ['a12', 'Siddarta Beiriz', 'LEI', [17, 10, 16, 16]],\n",
       " ['a13', 'Daniela PatrÃ\\xadcia Montes', 'ENGBIOM', [15, 15, 18, 19]],\n",
       " ['a14', 'Kaylla Pessego', 'LCC', [10, 14, 17, 15]],\n",
       " ['a15', 'Bianca Cristina Primitivo', 'ENGBIOM', [16, 9, 18, 10]],\n",
       " ['a16', 'Magna Galhardo', 'ENGFIS', [20, 18, 9, 14]],\n",
       " ['a17', 'Grace Isabel Patriarca', 'LCC', [19, 13, 9, 10]],\n",
       " ['a18', 'Saubhagya Buco', 'LEI', [18, 18, 17, 8]],\n",
       " ['a19', 'Ivo Vicente Boisa', 'ENGBIOM', [14, 10, 18, 13]],\n",
       " ['a20', 'Vivaan Castilhos', 'ENGFIS', [15, 14, 11, 12]],\n",
       " ['a21', 'Layana Camejo', 'ENGFIS', [17, 12, 10, 20]],\n",
       " ['a22', 'Mahdi Menoita', 'ENGFIS', [11, 16, 8, 16]],\n",
       " ['a23', 'Yifan Cortinado', 'LEI', [19, 16, 8, 18]],\n",
       " ['a24', 'EÌ\\x81der SodrÃ©', 'ENGFIS', [17, 13, 14, 12]],\n",
       " ['a25', 'Dhriti Magano', 'ENGFIS', [19, 11, 8, 19]],\n",
       " ['a26', 'Steve Devesa', 'ENGBIOM', [10, 16, 8, 13]],\n",
       " ['a27', 'Lisandro Mariano Picassinos', 'ENGFIS', [13, 10, 16, 10]],\n",
       " ['a28', 'Itiel Quinoy', 'LEI', [18, 18, 8, 9]],\n",
       " ['a29', 'Pranika Reimoo', 'LEI', [12, 16, 15, 13]],\n",
       " ['a30', 'Manaia Viseu', 'ENGFIS', [8, 12, 20, 11]],\n",
       " ['a31', 'Eva Manuel Caio', 'ENGFIS', [12, 16, 20, 16]],\n",
       " ['a32', 'Ariane Sofia Foja', 'LEI', [20, 19, 13, 18]],\n",
       " ['a33', 'Jaime AntÃ³nio Pauseiro', 'LCC', [19, 13, 8, 10]],\n",
       " ['a34', 'Tanisha Marzagoo', 'ENGBIOM', [14, 19, 13, 14]],\n",
       " ['a35', 'Siyon Anca', 'LEI', [8, 13, 19, 15]],\n",
       " ['a36', 'Diana Beatriz Boavista', 'LCC', [19, 18, 17, 12]],\n",
       " ['a37', 'ElisiaÌ\\x81rio Saberio', 'ENGFIS', [18, 18, 10, 19]],\n",
       " ['a38', 'Maira Brites', 'ENGFIS', [13, 16, 15, 17]],\n",
       " ['a39', 'VictÃ³ria Gabriela Incenso', 'LEI', [17, 14, 13, 8]],\n",
       " ['a40', 'Najua SerÃ´dio', 'LCC', [17, 9, 16, 18]],\n",
       " ['a41', 'Lachezar Rosas', 'ENGBIOM', [16, 18, 18, 15]],\n",
       " ['a42', 'Kattleya Trigueiro', 'ENGFIS', [19, 16, 14, 15]],\n",
       " ['a43', 'Tatiana Guiomar Maricoto', 'LCC', [19, 8, 15, 11]],\n",
       " ['a44', 'MÃ©lanie Daniela BugalhÃ£o', 'LCC', [17, 9, 17, 18]],\n",
       " ['a45', 'Imayame Hespanha', 'ENGFIS', [20, 17, 19, 11]],\n",
       " ['a46', 'Yuri Gabriel Baganha', 'LCC', [15, 18, 12, 16]],\n",
       " ['a47', 'MoisÃ©s JoÃ£o Cornelio', 'LEI', [20, 16, 19, 17]],\n",
       " ['a48', 'Nazir Assif Trinta', 'LEI', [14, 14, 12, 8]],\n",
       " ['a49', 'Karamjot Arezes', 'LEI', [10, 9, 20, 12]],\n",
       " ['a50', 'Rishit Justa', 'ENGBIOM', [9, 9, 9, 12]],\n",
       " ['a51', 'Iara de Jesus GonÃ§alo', 'ENGFIS', [14, 8, 12, 14]],\n",
       " ['a52', 'Stepfan Owusu Lercas', 'LEI', [18, 9, 16, 14]],\n",
       " ['a53', 'Abner Umbelina', 'ENGBIOM', [20, 16, 10, 13]],\n",
       " ['a54', 'DÃ¢nia Lucy Montelobo', 'LEI', [18, 19, 15, 11]],\n",
       " ['a55', 'Myla Lopez', 'ENGFIS', [9, 17, 12, 20]],\n",
       " ['a56', 'Hakeem BrazÃ£o', 'LEI', [18, 18, 13, 20]],\n",
       " ['a57', 'Quinn Aveiro', 'ENGBIOM', [17, 16, 9, 13]],\n",
       " ['a58', 'Etienne Constentino', 'ENGBIOM', [15, 8, 9, 13]],\n",
       " ['a59', 'Emanuel Marcos Delfina', 'LEI', [9, 15, 8, 13]],\n",
       " ['a60', 'Mariana Catarina Ramalheira', 'ENGBIOM', [17, 19, 19, 11]],\n",
       " ['a61', 'Bradley Tabau', 'LCC', [16, 19, 16, 12]],\n",
       " ['a62', 'Ahmadou Bamba Calcinha', 'LCC', [13, 20, 8, 16]],\n",
       " ['a63', 'Francisco Pedro Derresa', 'ENGFIS', [8, 12, 20, 18]],\n",
       " ['a64', 'Gil Miguel Lima', 'ENGBIOM', [16, 19, 8, 14]],\n",
       " ['a65', 'Leonor Pedro Carqueijeiro', 'ENGBIOM', [19, 11, 17, 8]],\n",
       " ['a66', 'Genrikh Maximovich Vila-ChÃ£', 'ENGFIS', [12, 15, 13, 9]],\n",
       " ['a67', 'Mayra Larissa Rolo', 'LCC', [15, 14, 17, 12]],\n",
       " ['a68', 'Leandro David Dunhoo', 'ENGBIOM', [15, 14, 11, 15]],\n",
       " ['a69', 'Adele Belchior', 'ENGBIOM', [17, 12, 20, 12]],\n",
       " ['a70', 'Frantceska Borreca', 'ENGFIS', [18, 11, 19, 8]],\n",
       " ['a71', 'Derrick Urias', 'ENGFIS', [11, 10, 8, 14]],\n",
       " ['a72', 'Ana Gabriel Quirino', 'LCC', [10, 17, 8, 19]],\n",
       " ['a73', 'Carolina Antoo', 'ENGBIOM', [16, 19, 20, 10]],\n",
       " ['a74', 'VÃ¢nia Sofia Porfirio', 'ENGBIOM', [18, 19, 18, 15]],\n",
       " ['a75', 'DÃ¡rcio Wosvaldo Tudela', 'LEI', [8, 18, 9, 18]],\n",
       " ['a76', 'Zhara CouxÃ£o', 'ENGFIS', [16, 10, 14, 12]],\n",
       " ['a77', 'TomÃ© Ferrito', 'LCC', [14, 10, 15, 19]],\n",
       " ['a78', 'Iasmin Paloma Chaveiro', 'LCC', [8, 15, 19, 9]],\n",
       " ['a79', 'Sadagi Cruto', 'ENGBIOM', [13, 18, 14, 18]],\n",
       " ['a80', 'Maria Carolina JosuÃ©', 'ENGFIS', [17, 20, 17, 18]],\n",
       " ['a81', 'Quaresma Lancastre', 'ENGBIOM', [17, 9, 16, 19]],\n",
       " ['a82', 'Evaldir Gervasio', 'ENGFIS', [16, 19, 15, 8]],\n",
       " ['a83', 'Dolorinda Adolfo', 'ENGFIS', [11, 20, 16, 8]],\n",
       " ['a84', 'LaudÃ¡rio FrasÃ£o', 'LCC', [20, 19, 10, 19]],\n",
       " ['a85', 'RÃ³mula Jeronimo', 'ENGFIS', [10, 13, 12, 11]],\n",
       " ['a86', 'ClÃ©sio Rodeiro', 'LCC', [9, 13, 12, 18]],\n",
       " ['a87', 'Feliciano JosÃ© Avis', 'ENGFIS', [9, 11, 10, 9]],\n",
       " ['a88', 'Afonso Adriano Marca', 'ENGBIOM', [8, 16, 12, 15]],\n",
       " ['a89', 'VictÃ³ria Miguel Rosete', 'ENGFIS', [8, 13, 13, 18]],\n",
       " ['a90', 'Tome Teroso', 'ENGFIS', [9, 9, 10, 17]],\n",
       " ['a91', 'ConstanÃ§a Filipa Melado', 'LEI', [10, 12, 8, 20]],\n",
       " ['a92', 'Madalena Jesus Alfaiate', 'LEI', [17, 14, 9, 17]],\n",
       " ['a93', 'Bivhan Reimbau', 'LCC', [17, 11, 8, 12]],\n",
       " ['a94', 'Viviana Sofia Gaspar', 'ENGBIOM', [16, 16, 20, 14]],\n",
       " ['a95', 'Ã\\x8dris Soraia Chiote', 'LEI', [11, 11, 17, 16]],\n",
       " ['a96', 'AnaiÌˆs Sintra', 'LCC', [19, 19, 12, 9]],\n",
       " ['a97', 'Salvador Banaca', 'LCC', [12, 9, 20, 12]],\n",
       " ['a98', 'Guilherme Matias AlmeirÃ£o', 'ENGFIS', [14, 9, 12, 11]],\n",
       " ['a99', 'Xavier LuÃ\\xads Bulha', 'ENGFIS', [17, 13, 8, 10]],\n",
       " ['a100', 'Tude Searas', 'LEI', [20, 17, 8, 14]]]"
      ]
     },
     "execution_count": 1,
     "metadata": {},
     "output_type": "execute_result"
    }
   ],
   "source": [
    "# BdAlunos=[Aluno]\n",
    "# Aluno=[id, nome, curso,[tpc1,tpc2,tpc3,tpc4] ]\n",
    "# 3 dimensões\n",
    "# Leitura/carregamento da informação do ficheiro\n",
    "\n",
    "def getAluno(texto):\n",
    "    textoLimpo2 = texto.replace(\"\\\"\",\"\") \n",
    "    #\"a1\",\"Aysha Melanie Gilberto\",\"LEI\",12,8,19,8 passa: a1,Aysha Melanie Gilberto,LEI,12,8,19,8 para no fim nao ficar ['\"a1\"', '\"Aysha Melanie Gilberto\"', '\"LEI\"', [12, 8, 19, 8]]\n",
    "    campos = textoLimpo2.split(\",\") #resulta numa lista, cujos elementos são aqueles que estavam entre vírgulas no textoLimpo2\n",
    "    aluno = []\n",
    "    aluno.append(campos[0]) # \"a1\"\n",
    "    aluno.append(campos[1]) # \"Aysha Melanie Gilberto\"\n",
    "    aluno.append(campos[2]) # \"LEI\"\n",
    "    aluno.append(campos[3:]) # 12,8,19,8\n",
    "    # [\"a1\",\"Aysha Melanie Gilberto\",\"LEI\",[12,8,19,8]]\n",
    "    lista = [] \n",
    "    for s in aluno[3]:\n",
    "        s = lista.append(int(s)) #so passa para inteiro as notas\n",
    "    aluno[3] = lista\n",
    "    return aluno\n",
    "\n",
    "def lerDataset():\n",
    "    texto = open (\"alunos.csv\")\n",
    "    bd = []\n",
    "    texto.readline()\n",
    "    for linha in texto:\n",
    "        bd.append(getAluno(linha))\n",
    "    return bd  \n",
    "\n",
    "lerDataset()     "
   ]
  },
  {
   "cell_type": "markdown",
   "metadata": {},
   "source": [
    "## Listagem (exercício 2)\n",
    "\n",
    "Especifica uma função que faça a listagem no monitor dos vários registos de informação.\n",
    "Tenta dar a forma duma tabela em que as colunas têm todas a mesma dimensão."
   ]
  },
  {
   "cell_type": "code",
   "execution_count": 2,
   "metadata": {},
   "outputs": [
    {
     "name": "stdout",
     "output_type": "stream",
     "text": [
      "Id       Nome                           Curso           Média     \n",
      "a1       Aysha Melanie Gilberto         LEI             11.75     \n",
      "a2       Igor AndrÃ© Cantanhede         ENGFIS          16.5      \n",
      "a3       LaurÃ©nio Narciso              ENGFIS          12.75     \n",
      "a4       Jasnoor Casegas                LCC             15.5      \n",
      "a5       Tawseef RebouÃ§as              ENGBIOM         14.25     \n",
      "a6       Eryk Clementino                LEI             13.5      \n",
      "a7       Ianna Noivo                    ENGBIOM         15.75     \n",
      "a8       Ayla Thaissa Reina             ENGBIOM         11.5      \n",
      "a9       CÃ¡ssia Viviane CoitÃ£         ENGFIS          13.0      \n",
      "a10      Koby Vindima                   LEI             14.0      \n",
      "a11      Gustavo Martim Hernandez       ENGBIOM         11.0      \n",
      "a12      Siddarta Beiriz                LEI             14.75     \n",
      "a13      Daniela PatrÃ­cia Montes       ENGBIOM         16.75     \n",
      "a14      Kaylla Pessego                 LCC             14.0      \n",
      "a15      Bianca Cristina Primitivo      ENGBIOM         13.25     \n",
      "a16      Magna Galhardo                 ENGFIS          15.25     \n",
      "a17      Grace Isabel Patriarca         LCC             12.75     \n",
      "a18      Saubhagya Buco                 LEI             15.25     \n",
      "a19      Ivo Vicente Boisa              ENGBIOM         13.75     \n",
      "a20      Vivaan Castilhos               ENGFIS          13.0      \n",
      "a21      Layana Camejo                  ENGFIS          14.75     \n",
      "a22      Mahdi Menoita                  ENGFIS          12.75     \n",
      "a23      Yifan Cortinado                LEI             15.25     \n",
      "a24      EÌder SodrÃ©                  ENGFIS          14.0      \n",
      "a25      Dhriti Magano                  ENGFIS          14.25     \n",
      "a26      Steve Devesa                   ENGBIOM         11.75     \n",
      "a27      Lisandro Mariano Picassinos    ENGFIS          12.25     \n",
      "a28      Itiel Quinoy                   LEI             13.25     \n",
      "a29      Pranika Reimoo                 LEI             14.0      \n",
      "a30      Manaia Viseu                   ENGFIS          12.75     \n",
      "a31      Eva Manuel Caio                ENGFIS          16.0      \n",
      "a32      Ariane Sofia Foja              LEI             17.5      \n",
      "a33      Jaime AntÃ³nio Pauseiro        LCC             12.5      \n",
      "a34      Tanisha Marzagoo               ENGBIOM         15.0      \n",
      "a35      Siyon Anca                     LEI             13.75     \n",
      "a36      Diana Beatriz Boavista         LCC             16.5      \n",
      "a37      ElisiaÌrio Saberio            ENGFIS          16.25     \n",
      "a38      Maira Brites                   ENGFIS          15.25     \n",
      "a39      VictÃ³ria Gabriela Incenso     LEI             13.0      \n",
      "a40      Najua SerÃ´dio                 LCC             15.0      \n",
      "a41      Lachezar Rosas                 ENGBIOM         16.75     \n",
      "a42      Kattleya Trigueiro             ENGFIS          16.0      \n",
      "a43      Tatiana Guiomar Maricoto       LCC             13.25     \n",
      "a44      MÃ©lanie Daniela BugalhÃ£o     LCC             15.25     \n",
      "a45      Imayame Hespanha               ENGFIS          16.75     \n",
      "a46      Yuri Gabriel Baganha           LCC             15.25     \n",
      "a47      MoisÃ©s JoÃ£o Cornelio         LEI             18.0      \n",
      "a48      Nazir Assif Trinta             LEI             12.0      \n",
      "a49      Karamjot Arezes                LEI             12.75     \n",
      "a50      Rishit Justa                   ENGBIOM         9.75      \n",
      "a51      Iara de Jesus GonÃ§alo         ENGFIS          12.0      \n",
      "a52      Stepfan Owusu Lercas           LEI             14.25     \n",
      "a53      Abner Umbelina                 ENGBIOM         14.75     \n",
      "a54      DÃ¢nia Lucy Montelobo          LEI             15.75     \n",
      "a55      Myla Lopez                     ENGFIS          14.5      \n",
      "a56      Hakeem BrazÃ£o                 LEI             17.25     \n",
      "a57      Quinn Aveiro                   ENGBIOM         13.75     \n",
      "a58      Etienne Constentino            ENGBIOM         11.25     \n",
      "a59      Emanuel Marcos Delfina         LEI             11.25     \n",
      "a60      Mariana Catarina Ramalheira    ENGBIOM         16.5      \n",
      "a61      Bradley Tabau                  LCC             15.75     \n",
      "a62      Ahmadou Bamba Calcinha         LCC             14.25     \n",
      "a63      Francisco Pedro Derresa        ENGFIS          14.5      \n",
      "a64      Gil Miguel Lima                ENGBIOM         14.25     \n",
      "a65      Leonor Pedro Carqueijeiro      ENGBIOM         13.75     \n",
      "a66      Genrikh Maximovich Vila-ChÃ£   ENGFIS          12.25     \n",
      "a67      Mayra Larissa Rolo             LCC             14.5      \n",
      "a68      Leandro David Dunhoo           ENGBIOM         13.75     \n",
      "a69      Adele Belchior                 ENGBIOM         15.25     \n",
      "a70      Frantceska Borreca             ENGFIS          14.0      \n",
      "a71      Derrick Urias                  ENGFIS          10.75     \n",
      "a72      Ana Gabriel Quirino            LCC             13.5      \n",
      "a73      Carolina Antoo                 ENGBIOM         16.25     \n",
      "a74      VÃ¢nia Sofia Porfirio          ENGBIOM         17.5      \n",
      "a75      DÃ¡rcio Wosvaldo Tudela        LEI             13.25     \n",
      "a76      Zhara CouxÃ£o                  ENGFIS          13.0      \n",
      "a77      TomÃ© Ferrito                  LCC             14.5      \n",
      "a78      Iasmin Paloma Chaveiro         LCC             12.75     \n",
      "a79      Sadagi Cruto                   ENGBIOM         15.75     \n",
      "a80      Maria Carolina JosuÃ©          ENGFIS          18.0      \n",
      "a81      Quaresma Lancastre             ENGBIOM         15.25     \n",
      "a82      Evaldir Gervasio               ENGFIS          14.5      \n",
      "a83      Dolorinda Adolfo               ENGFIS          13.75     \n",
      "a84      LaudÃ¡rio FrasÃ£o              LCC             17.0      \n",
      "a85      RÃ³mula Jeronimo               ENGFIS          11.5      \n",
      "a86      ClÃ©sio Rodeiro                LCC             13.0      \n",
      "a87      Feliciano JosÃ© Avis           ENGFIS          9.75      \n",
      "a88      Afonso Adriano Marca           ENGBIOM         12.75     \n",
      "a89      VictÃ³ria Miguel Rosete        ENGFIS          13.0      \n",
      "a90      Tome Teroso                    ENGFIS          11.25     \n",
      "a91      ConstanÃ§a Filipa Melado       LEI             12.5      \n",
      "a92      Madalena Jesus Alfaiate        LEI             14.25     \n",
      "a93      Bivhan Reimbau                 LCC             12.0      \n",
      "a94      Viviana Sofia Gaspar           ENGBIOM         16.5      \n",
      "a95      Ãris Soraia Chiote            LEI             13.75     \n",
      "a96      AnaiÌˆs Sintra                 LCC             14.75     \n",
      "a97      Salvador Banaca                LCC             13.25     \n",
      "a98      Guilherme Matias AlmeirÃ£o     ENGFIS          11.5      \n",
      "a99      Xavier LuÃ­s Bulha             ENGFIS          12.0      \n",
      "a100     Tude Searas                    LEI             14.75     \n"
     ]
    }
   ],
   "source": [
    "#Listagem da informação\n",
    "def listarDataset():\n",
    "    BD = lerDataset()\n",
    "    print (\"{:<8} {:<30} {:<15} {:<10}\".format('Id','Nome','Curso','Média'))\n",
    "    for a in BD:\n",
    "        media = str(sum(a[3])/4)\n",
    "        iD = a[0]\n",
    "        nome = a[1]\n",
    "        curso = a[2]\n",
    "        print (\"{:<8} {:<30} {:<15} {:<10}\".format(iD,nome,curso,media))\n",
    "\n",
    "listarDataset()   "
   ]
  },
  {
   "cell_type": "markdown",
   "metadata": {},
   "source": [
    "## Consulta de um registo (exercício 3)\n",
    "\n",
    "Especifica uma função que, dado o id de um aluno, coloca a sua informação no monitor. Para além disso, indica também a média dos TPC realizados."
   ]
  },
  {
   "cell_type": "code",
   "execution_count": 3,
   "metadata": {},
   "outputs": [
    {
     "name": "stdout",
     "output_type": "stream",
     "text": [
      "Id:  a44 \n",
      "Nome:  MÃ©lanie Daniela BugalhÃ£o \n",
      "Curso:  LCC \n",
      "TPC1:  17  TPC2:  9  TPC3:  17  TPC4:  18 \n",
      "Média:  15.25\n",
      "Não existe esse registo.\n"
     ]
    }
   ],
   "source": [
    "# Consulta de um registo tenho que pedir o id eventualmente\n",
    "def consultarDataset(iD):\n",
    "    BD = lerDataset()\n",
    "    for a in BD:\n",
    "        aluno = 0\n",
    "        if a[0] == iD:\n",
    "            media = str(sum(a[3])/4)\n",
    "            print (\"Id: \", a[0],\"\\nNome: \", a[1],\"\\nCurso: \", a[2], \"\\nTPC1: \", a[3][0], \" TPC2: \", a[3][1], \" TPC3: \", a[3][2], \" TPC4: \", a[3][3], \"\\nMédia: \", media)\n",
    "            aluno = 1\n",
    "    if aluno == 0 :\n",
    "        print (\"Não existe esse registo.\")\n",
    "        \n",
    "consultarDataset(\"a44\")   "
   ]
  },
  {
   "cell_type": "markdown",
   "metadata": {},
   "source": [
    "## Top 10 (exercicio 4)\n",
    "\n",
    "Especifica um função que dá como resultado uma lista com os alunos com as 10 méias mais altas: id, nome, curso, média."
   ]
  },
  {
   "cell_type": "code",
   "execution_count": 4,
   "metadata": {},
   "outputs": [
    {
     "name": "stdout",
     "output_type": "stream",
     "text": [
      "Id:  a47  Nome:  MoisÃ©s JoÃ£o Cornelio  Curso:  LEI  Média:  18.0 \n",
      "\n",
      "Id:  a80  Nome:  Maria Carolina JosuÃ©  Curso:  ENGFIS  Média:  18.0 \n",
      "\n",
      "Id:  a32  Nome:  Ariane Sofia Foja  Curso:  LEI  Média:  17.5 \n",
      "\n",
      "Id:  a74  Nome:  VÃ¢nia Sofia Porfirio  Curso:  ENGBIOM  Média:  17.5 \n",
      "\n",
      "Id:  a56  Nome:  Hakeem BrazÃ£o  Curso:  LEI  Média:  17.25 \n",
      "\n",
      "Id:  a84  Nome:  LaudÃ¡rio FrasÃ£o  Curso:  LCC  Média:  17.0 \n",
      "\n",
      "Id:  a13  Nome:  Daniela PatrÃ­cia Montes  Curso:  ENGBIOM  Média:  16.75 \n",
      "\n",
      "Id:  a41  Nome:  Lachezar Rosas  Curso:  ENGBIOM  Média:  16.75 \n",
      "\n",
      "Id:  a45  Nome:  Imayame Hespanha  Curso:  ENGFIS  Média:  16.75 \n",
      "\n",
      "Id:  a2  Nome:  Igor AndrÃ© Cantanhede  Curso:  ENGFIS  Média:  16.5 \n",
      "\n"
     ]
    }
   ],
   "source": [
    "def chaveOrd(a):\n",
    "    return  str(sum(a[3])/4)\n",
    "\n",
    "def top10():\n",
    "    BD = lerDataset()\n",
    "    BD.sort(reverse = True, key = chaveOrd) #poe erradamente em primeiro dois valores de 9,75 e depois ordena corretamente de maior para menor\n",
    "    i = 2\n",
    "    while i in range(12):\n",
    "        tpc = BD[i][3]\n",
    "        soma = sum(tpc)\n",
    "        media = str(soma/4)\n",
    "        print (\"Id: \", BD[i][0],\" Nome: \", BD[i][1],\" Curso: \", BD[i][2], \" Média: \", media, \"\\n\")\n",
    "        i = i+1\n",
    "\n",
    "top10()"
   ]
  },
  {
   "cell_type": "markdown",
   "metadata": {},
   "source": [
    "## Distribuição por curso (exercício 5)\n",
    "\n",
    "Especifica uma função que dá como resultado uma lista de pares indicando quantos alunos há em cada curso."
   ]
  },
  {
   "cell_type": "code",
   "execution_count": 5,
   "metadata": {},
   "outputs": [
    {
     "data": {
      "text/plain": [
       "{'LEI': 23, 'ENGFIS': 32, 'LCC': 20, 'ENGBIOM': 25}"
      ]
     },
     "execution_count": 5,
     "metadata": {},
     "output_type": "execute_result"
    }
   ],
   "source": [
    "def distribPorCurso():\n",
    "    bd = lerDataset()\n",
    "    distribuicao = {}\n",
    "    for a in bd:\n",
    "        if a[2] in distribuicao.keys():\n",
    "            distribuicao[a[2]] = distribuicao[a[2]]+1\n",
    "        else:\n",
    "            distribuicao[a[2]] = 1\n",
    "    return distribuicao #{curso : numero de alunos}\n",
    "distribPorCurso()\n",
    "    "
   ]
  },
  {
   "cell_type": "markdown",
   "metadata": {},
   "source": [
    "## Distribuição por médias (exercício 6)\n",
    "\n",
    "Especifica uma função que dá como resultado uma lista de pares, média e número de alunos com essa média (considera o valor inteiro da média)."
   ]
  },
  {
   "cell_type": "code",
   "execution_count": 6,
   "metadata": {},
   "outputs": [
    {
     "data": {
      "text/plain": [
       "{11: 9, 16: 11, 12: 15, 15: 15, 14: 21, 13: 20, 17: 4, 18: 2, 9: 2, 10: 1}"
      ]
     },
     "execution_count": 6,
     "metadata": {},
     "output_type": "execute_result"
    }
   ],
   "source": [
    "def distribPorMedia():\n",
    "    bd = lerDataset()\n",
    "    distribuicaoM = {}\n",
    "    for a in bd:\n",
    "        M = int(sum(a[3])/4)\n",
    "        if M in distribuicaoM.keys():\n",
    "            distribuicaoM[M] = distribuicaoM[M]+1\n",
    "        else:\n",
    "            distribuicaoM[M] = 1\n",
    "    return distribuicaoM #{media: numero de alunos com essa media}\n",
    "\n",
    "distribPorMedia()"
   ]
  },
  {
   "cell_type": "markdown",
   "metadata": {},
   "source": [
    "# Gráficos\n",
    "\n",
    "## Gráfico da distribuição por curso (exercício 7)\n",
    "\n",
    "Especifica uma função que faz o plot dum gráfico com a distribuição de alunos por curso."
   ]
  },
  {
   "cell_type": "code",
   "execution_count": 13,
   "metadata": {},
   "outputs": [
    {
     "data": {
      "image/png": "[encoded data removed]",
      "text/plain": [
       "<Figure size 432x288 with 1 Axes>"
      ]
     },
     "metadata": {
      "needs_background": "light"
     },
     "output_type": "display_data"
    }
   ],
   "source": [
    "\n",
    "distribuicao = distribPorCurso()\n",
    "\n",
    "import matplotlib.pyplot as plt\n",
    " \n",
    "def plotDistribPorCurso(distribuicao):\n",
    "    # heights of bars\n",
    "    alunos = distribuicao.values()\n",
    "    height = []\n",
    "    for a in alunos:\n",
    "        height.append(a)   \n",
    " \n",
    "    # labels for bars\n",
    "    cursos = distribuicao.keys() #retorna lista com as chaves, nomne dos cursos\n",
    "    x = []\n",
    "    i = 1\n",
    "    tick_label = []\n",
    "    for c in cursos:\n",
    "        tick_label.append(c)\n",
    "        x.append(i)\n",
    "        i = i+1\n",
    " \n",
    "    # plotting a bar chart\n",
    "    plt.bar(x,height, tick_label = tick_label, width = 0.8)\n",
    " \n",
    "    # naming the x-axis\n",
    "    plt.xlabel('Cursos')\n",
    "    # naming the y-axis\n",
    "    plt.ylabel('Número de alunos')\n",
    "    # plot title\n",
    "    plt.title('Distribuição por curso')\n",
    " \n",
    "    # function to show the plot\n",
    "    plt.show()\n",
    " \n",
    "plotDistribPorCurso(distribuicao)\n"
   ]
  },
  {
   "cell_type": "markdown",
   "metadata": {},
   "source": [
    "## Gráfico da distribuição por média (exercício 8)\n",
    "\n",
    "Especifica uma função que faz o plot dum gráfico com a distribuição de alunos por média."
   ]
  },
  {
   "cell_type": "code",
   "execution_count": 14,
   "metadata": {},
   "outputs": [
    {
     "data": {
      "image/png": "[encoded data removed]",
      "text/plain": [
       "<Figure size 432x288 with 1 Axes>"
      ]
     },
     "metadata": {
      "needs_background": "light"
     },
     "output_type": "display_data"
    }
   ],
   "source": [
    "\n",
    "distribuicao = distribPorMedia()\n",
    "\n",
    "import matplotlib.pyplot as plt\n",
    " \n",
    "def plotDistribPorMedia(distribuicao):\n",
    "    # heights of bars\n",
    "    alunos = distribuicao.values()\n",
    "    height = []\n",
    "    for a in alunos:\n",
    "        height.append(a)   \n",
    " \n",
    "    # labels for bars\n",
    "    cursos = distribuicao.keys() #retorna lista com as chaves, nomne dos cursos\n",
    "    x = []\n",
    "    i = 1\n",
    "    tick_label = []\n",
    "    for c in cursos:\n",
    "        tick_label.append(c)\n",
    "        x.append(i)\n",
    "        i = i+1\n",
    " \n",
    "    # plotting a bar chart\n",
    "    plt.bar(x,height, tick_label = tick_label, width = 0.8)\n",
    " \n",
    "    # naming the x-axis\n",
    "    plt.xlabel('Media')\n",
    "    # naming the y-axis\n",
    "    plt.ylabel('Número de alunos')\n",
    "    # plot title\n",
    "    plt.title('Distribuição de alunos por media')\n",
    " \n",
    "    # function to show the plot\n",
    "    plt.show()\n",
    "plotDistribPorMedia(distribuicao)    "
   ]
  }
 ],
 "metadata": {
  "interpreter": {
   "hash": "aee8b7b246df8f9039afb4144a1f6fd8d2ca17a180786b69acc140d282b71a49"
  },
  "kernelspec": {
   "display_name": "Python 3.9.1 64-bit",
   "name": "python3"
  },
  "language_info": {
   "codemirror_mode": {
    "name": "ipython",
    "version": 3
   },
   "file_extension": ".py",
   "mimetype": "text/x-python",
   "name": "python",
   "nbconvert_exporter": "python",
   "pygments_lexer": "ipython3",
   "version": "3.9.0"
  },
  "orig_nbformat": 4
 },
 "nbformat": 4,
 "nbformat_minor": 2
}
