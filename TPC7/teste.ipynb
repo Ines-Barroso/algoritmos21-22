{
 "cells": [
  {
   "cell_type": "markdown",
   "metadata": {},
   "source": []
  },
  {
   "cell_type": "code",
   "execution_count": 3,
   "metadata": {},
   "outputs": [
    {
     "name": "stdout",
     "output_type": "stream",
     "text": [
      "Requirement already satisfied: pysimpleGUI in /Library/Frameworks/Python.framework/Versions/3.9/lib/python3.9/site-packages (4.55.1)\n",
      "\u001b[33mWARNING: You are using pip version 20.2.3; however, version 21.3.1 is available.\n",
      "You should consider upgrading via the '/usr/local/bin/python3 -m pip install --upgrade pip' command.\u001b[0m\n",
      "Note: you may need to restart the kernel to use updated packages.\n"
     ]
    }
   ],
   "source": [
    "pip install pysimpleGUI\n"
   ]
  },
  {
   "cell_type": "code",
   "execution_count": 2,
   "metadata": {},
   "outputs": [
    {
     "data": {
      "text/plain": [
       "{'LEI': 23, 'ENGFIS': 32, 'LCC': 20, 'ENGBIOM': 25}"
      ]
     },
     "execution_count": 2,
     "metadata": {},
     "output_type": "execute_result"
    }
   ],
   "source": [
    "def getAluno(texto):\n",
    "    textoLimpo2 = texto.replace(\"\\\"\",\"\") #\"a1\",\"Aysha Melanie Gilberto\",\"LEI\",12,8,19,8\n",
    "    campos = textoLimpo2.split(\",\")\n",
    "    aluno = []\n",
    "    aluno.append(campos[0]) # \"a1\"\n",
    "    aluno.append(campos[1]) # \"Aysha Melanie Gilberto\"\n",
    "    aluno.append(campos[2]) # \"LEI\"\n",
    "    aluno.append(campos[3:]) # 12,8,19,8\n",
    "    # [\"a1\",\"Aysha Melanie Gilberto\",\"LEI\",[12,8,19,8]]\n",
    "    lista = []\n",
    "    for s in aluno[3]:\n",
    "        s = lista.append(int(s)) #so passa para inteiro as notas\n",
    "    aluno[3] = lista\n",
    "    return aluno\n",
    "\n",
    "def lerDataset():\n",
    "    texto = open (\"alunos.csv\")\n",
    "    bd = []\n",
    "    texto.readline()\n",
    "    for linha in texto:\n",
    "        bd.append(getAluno(linha))\n",
    "    return bd   \n",
    "    \n",
    "def distribPorCurso():\n",
    "    bd = lerDataset()\n",
    "    distribuicao = {}\n",
    "    for a in bd:\n",
    "        if a[2] in distribuicao.keys():\n",
    "            distribuicao[a[2]] = distribuicao[a[2]]+1\n",
    "        else:\n",
    "            distribuicao[a[2]] = 1\n",
    "    return distribuicao #{curso : numero de alunos}\n",
    "\n",
    "distribPorCurso()    \n"
   ]
  },
  {
   "cell_type": "code",
   "execution_count": null,
   "metadata": {},
   "outputs": [],
   "source": [
    "import PySimpleGUI as sg\n",
    "import polinomio as pol\n",
    "\n",
    "myPolBD = []\n",
    "\n",
    "sg.theme('BlueMono')\n",
    "\n",
    "# Painel com duas colunas: \n",
    "# Coluna 1: menu\n",
    "# Coluna 2: Dados\n",
    "\n",
    "menu_list_column = [\n",
    "    [sg.Button(\"Limpar BD\", font=('Arial', 16))],\n",
    "    [sg.Button(\"Carregar BD\", font=('Arial', 16))],\n",
    "    [sg.Button(\"Gravar BD\", font=('Arial', 16))],\n",
    "    [sg.Button(\"Listar BD\", font=('Arial', 16))],\n",
    "    [sg.Button(\"Criar polinómio\", font=('Arial', 16))],\n",
    "    [sg.Button(\"Sair\")]\n",
    "    [sg.Text(' '*30)],\n",
    "    [sg.Text('Polinómios na BD', font=('Arial', 16))],\n",
    "    [sg.ListBox(values=[], select_mode='extended', keys='-Lista-', size = (30,6))]\n",
    "]\n",
    "\n",
    "data_viewer_column = [\n",
    "    [sg.Text(\"Painel de Dados\", font=('Arial', 20))],\n",
    "    [sg.Text(size=(40, 2), key=\"-Dados-\", font=('Arial', 16))],\n",
    "]\n",
    "\n",
    "layout = [ \n",
    "    [ \n",
    "        sg.Column(menu_list_column),\n",
    "        sg.VSeparator(),\n",
    "        sg.Column(data_viewer_column)\n",
    "    ]\n",
    "]\n",
    "\n",
    "windowApp = sg.Window(\"Polinómios\", layout, font=('Arial', 24))\n",
    "\n",
    "stop = False\n",
    "while not stop:\n",
    "    event, values = windowApp.read()\n",
    "    if event == 'Sair' or event == sg.WIN_CLOSED:\n",
    "        stop = True\n",
    "    elif event == 'Limpar BD':\n",
    "        myPolBD.clear()\n",
    "        windowApp['-Dados-'].update(\"A Base de dados foi limpa, já não há polinómios...\")\n",
    "    elif event == 'Carregar BD':\n",
    "        myPolBD = pol.carregarBD(\"polinomios.json\")\n",
    "        windowApp['-Dados-'].update(\"Foram carregados \" + str(len(myPolBD)) + \" polinomios.\")\n",
    "        vista = []\n",
    "        for p in myPolBD:\n",
    "            vista.append(pol.verPolinomio(p))\n",
    "        windowApp['Lista'].update(vista)"
   ]
  }
 ],
 "metadata": {
  "interpreter": {
   "hash": "aee8b7b246df8f9039afb4144a1f6fd8d2ca17a180786b69acc140d282b71a49"
  },
  "kernelspec": {
   "display_name": "Python 3.9.0 64-bit",
   "language": "python",
   "name": "python3"
  },
  "language_info": {
   "codemirror_mode": {
    "name": "ipython",
    "version": 3
   },
   "file_extension": ".py",
   "mimetype": "text/x-python",
   "name": "python",
   "nbconvert_exporter": "python",
   "pygments_lexer": "ipython3",
   "version": "3.9.0"
  },
  "orig_nbformat": 4
 },
 "nbformat": 4,
 "nbformat_minor": 2
}
