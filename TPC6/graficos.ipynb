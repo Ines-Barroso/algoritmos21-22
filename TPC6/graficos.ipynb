{
 "cells": [
  {
   "cell_type": "markdown",
   "metadata": {},
   "source": [
    "# TPC6\n",
    "## Representação gráfica de infor,ação\n",
    "* Autor: Inês Maria Afonso Barroso, A95787\n",
    "* Supervisor: José Carlos Leite Ramalho\n",
    "* Data de início: 2021-11-15\n",
    "* Data de fim: 2021-11-21\n",
    "* Resumo: Neste algoritmo para realizar as representçãos gráficas usamos o módulo plot, bem como o módulo polinómio criado nas aulas anteriores."
   ]
  },
  {
   "cell_type": "code",
   "execution_count": null,
   "metadata": {},
   "outputs": [],
   "source": [
    "## Plot Instalação\n",
    "pip install matplotlib"
   ]
  },
  {
   "cell_type": "markdown",
   "metadata": {},
   "source": [
    "### Exercício Treino 1"
   ]
  },
  {
   "cell_type": "code",
   "execution_count": null,
   "metadata": {},
   "outputs": [],
   "source": [
    "# importing the required module\n",
    "import matplotlib.pyplot as plt\n",
    " \n",
    "# x axis values\n",
    "x = [1,2,3]\n",
    "# corresponding y axis values\n",
    "y = [2,4,1]\n",
    " \n",
    "# plotting the points\n",
    "plt.plot(x, y)\n",
    " \n",
    "# naming the x axis\n",
    "plt.xlabel('Abcissas')\n",
    "# naming the y axis\n",
    "plt.ylabel('Ordenadas')\n",
    " \n",
    "# giving a title to my graph\n",
    "plt.title('O meu primeiro grÃ¡fico!')\n",
    " \n",
    "# function to show the plot\n",
    "plt.show()"
   ]
  },
  {
   "cell_type": "markdown",
   "metadata": {},
   "source": [
    "### Exercício Treino 2"
   ]
  },
  {
   "cell_type": "code",
   "execution_count": null,
   "metadata": {},
   "outputs": [],
   "source": [
    "import matplotlib.pyplot as plt\n",
    " \n",
    "# line 1 points\n",
    "x1 = [1,2,3]\n",
    "y1 = [2,4,1]\n",
    "# plotting the line 1 points\n",
    "plt.plot(x1, y1, label = \"linha 1\")\n",
    " \n",
    "# line 2 points\n",
    "x2 = [1,2,3]\n",
    "y2 = [4,1,3]\n",
    "# plotting the line 2 points\n",
    "plt.plot(x2, y2, label = \"linha 2\")\n",
    " \n",
    "# naming the x axis\n",
    "plt.xlabel('Abcissas')\n",
    "# naming the y axis\n",
    "plt.ylabel('Ordenadas')\n",
    "# giving a title to my graph\n",
    "plt.title('GrÃ¡fico com duas funÃ§Ãµes')\n",
    " \n",
    "# show a legend on the plot\n",
    "plt.legend()\n",
    " \n",
    "# function to show the plot\n",
    "plt.show()"
   ]
  },
  {
   "cell_type": "markdown",
   "metadata": {},
   "source": [
    "### Exercício Treino 3"
   ]
  },
  {
   "cell_type": "code",
   "execution_count": null,
   "metadata": {},
   "outputs": [],
   "source": [
    "import matplotlib.pyplot as plt\n",
    " \n",
    "# x axis values\n",
    "x = [1,2,3,4,5,6]\n",
    "# corresponding y axis values\n",
    "y = [2,4,1,5,2,6]\n",
    " \n",
    "# plotting the points\n",
    "plt.plot(x, y, color='green', linestyle='dashed', linewidth = 3,\n",
    "         marker='o', markerfacecolor='blue', markersize=12)\n",
    " \n",
    "# setting x and y axis range\n",
    "plt.ylim(1,8)\n",
    "plt.xlim(1,8)\n",
    " \n",
    "# naming the x axis\n",
    "plt.xlabel('Abcissas')\n",
    "# naming the y axis\n",
    "plt.ylabel('Ordenadas')\n",
    " \n",
    "# giving a title to my graph\n",
    "plt.title('Um grÃ¡fico com estilo!')\n",
    " \n",
    "# function to show the plot\n",
    "plt.show()"
   ]
  },
  {
   "cell_type": "markdown",
   "metadata": {},
   "source": [
    "## Exercícios\n",
    "### Exercício 1: desenha um quadrado centrado na origem com 5 unidades de lado"
   ]
  },
  {
   "cell_type": "code",
   "execution_count": null,
   "metadata": {},
   "outputs": [],
   "source": [
    "import matplotlib.pyplot as plt\n",
    "\n",
    "# x axis values\n",
    "x = [-2.5, 2.5, 2.5, -2.5, -2.5]\n",
    "# corresponding y axis values \n",
    "y = [2.5, 2.5, -2.5, -2.5, 2.5]\n",
    "\n",
    "#plotting the points\n",
    "plt.plot(x, y)\n",
    "\n",
    "#naming the x axis\n",
    "plt.xlabel('x')\n",
    "#naming the y axis\n",
    "plt.ylabel('y')\n",
    "\n",
    "# giving a tittle to my graph\n",
    "plt.title('quadrado')\n",
    "\n",
    "eixoXx = [-5,5]\n",
    "eixoXy = [0,0]\n",
    "plt.plot(eixoXx, eixoXy, label = \"eixo do X\")\n",
    "\n",
    "eixoYx = [0,0] \n",
    "eixoYy = [-5,5]\n",
    "plt.plot(eixoYx, eixoYy, label = \"eixo do X\")"
   ]
  },
  {
   "cell_type": "markdown",
   "metadata": {},
   "source": [
    "### Exercício 2: desenha n quadrados centrado na origem com lados 1..10"
   ]
  },
  {
   "cell_type": "code",
   "execution_count": null,
   "metadata": {},
   "outputs": [],
   "source": [
    "for n in range(1,10):\n",
    "    x = [-n, n, n, -n, -n]\n",
    "    y = [n, n, -n, -n, n]\n",
    "    plt.plot(x, y)\n",
    "    plt.xlabel('x')\n",
    "    plt.ylabel('y')\n",
    "    plt.title('quadrados de lado n')\n",
    "    eixoXx = [-12,12]\n",
    "    eixoXy = [0,0]\n",
    "    plt.plot(eixoXx, eixoXy, label = \"eixo do X\")\n",
    "    eixoYx = [0,0] \n",
    "    eixoYy = [-12,12]\n",
    "    plt.plot(eixoYx, eixoYy, label = \"eixo do X\")"
   ]
  },
  {
   "cell_type": "markdown",
   "metadata": {},
   "source": [
    "### Exercício 3: representa graficamente os seguintes polinómios\n",
    "* 2x - 5\n",
    "* x^2 - 7\n",
    "* x^3 - 2x^2 + 1\n",
    "\n",
    "Para isso:\n",
    "* Descarrega o módulo polinómio, desenvolvido pelo docente;\n",
    "* Cria um programa e define os 3 polinómios;\n",
    "* Cria uma representação gráfica para: x = x; y = plo(x);\n",
    "* Em que x = [-100, 100] e y = [-200, 200];\n",
    "* Visualiza os resultados e adapta a escala dos eixos para uma melhor visualizaÃ§Ã£o de cada polinÃ³mio."
   ]
  },
  {
   "cell_type": "code",
   "execution_count": null,
   "metadata": {},
   "outputs": [],
   "source": [
    "import polinomio as pol\n",
    "\n",
    "pol1 = pol.criarPolinomio(pol.inserirtermo(2,1), pol.inserirtermo(-5,0))\n",
    "pol2 = pol.criarPolinomio(pol.inserirtermo(1,2), pol.inserirtermo(-7,0))\n",
    "pol3 = pol.criarPolinomio(pol.inserirtermo(1,3), pol.inserirtermo(-2,2), pol.inserirtermo(1,0))\n",
    "\n",
    "pol.criarVista(polList)"
   ]
  }
 ],
 "metadata": {
  "kernelspec": {
   "display_name": "Python 3",
   "language": "python",
   "name": "python3"
  },
  "language_info": {
   "codemirror_mode": {
    "name": "ipython",
    "version": 3
   },
   "file_extension": ".py",
   "mimetype": "text/x-python",
   "name": "python",
   "nbconvert_exporter": "python",
   "pygments_lexer": "ipython3",
   "version": "3.8.3"
  }
 },
 "nbformat": 4,
 "nbformat_minor": 4
}
