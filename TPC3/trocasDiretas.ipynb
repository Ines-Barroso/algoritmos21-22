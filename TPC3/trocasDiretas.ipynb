{
 "cells": [
  {
   "cell_type": "markdown",
   "metadata": {},
   "source": [
    "# TPC3\n",
    "## Bubble sort / Trocas diretas\n",
    "* __Autor__: Inês Maria Afonso Barroso, A95787\n",
    "* __Resumo__: O algoritmo consiste em ordenar uma lista percorrendo cada elemento da mesma e comparando-o com o que o sucede. Se o número seguinte for maior, a posição do primeiro mantém-se, caso contrário ocorre uma troca direta entre estes. A lista é examinada continuamente até ficar ordenada, isto acontece quando após corrida a lista, não terem sido contabilizadas nenhumas trocas. Para testar o algoritmo utilizei a função que cria listas aleatórias feita na TP3. \n"
   ]
  },
  {
   "cell_type": "code",
   "execution_count": 1,
   "metadata": {},
   "outputs": [
    {
     "name": "stdout",
     "output_type": "stream",
     "text": [
      "Introduza o número de elementos da lista: 5\n",
      "[23, 45, 58, 85, 95]\n"
     ]
    }
   ],
   "source": [
    "def trocasDiretas(L):\n",
    "    t = 1\n",
    "    guarda = 0\n",
    "    while t != 0 :\n",
    "        t = 0\n",
    "        i = 0\n",
    "        while i < (len(L)-1):\n",
    "            if L[i]>L[i+1]:\n",
    "                guarda = L[i]\n",
    "                L[i] = L[i+1]\n",
    "                L[i+1] = guarda\n",
    "                t = t+1\n",
    "            i = i+1 \n",
    "    print(L)        \n",
    "\n",
    "import random\n",
    "def criarListaA():\n",
    "    N = int(input(\"Introduza o número de elementos da lista: \"))\n",
    "    Lista = []\n",
    "    for numero in range(N):\n",
    "        numero = random.randint(0,100)\n",
    "        Lista.append(numero)\n",
    "    return Lista         \n",
    "\n",
    "trocasDiretas(criarListaA())"
   ]
  },
  {
   "cell_type": "code",
   "execution_count": null,
   "metadata": {},
   "outputs": [],
   "source": []
  }
 ],
 "metadata": {
  "kernelspec": {
   "display_name": "Python 3",
   "language": "python",
   "name": "python3"
  },
  "language_info": {
   "codemirror_mode": {
    "name": "ipython",
    "version": 3
   },
   "file_extension": ".py",
   "mimetype": "text/x-python",
   "name": "python",
   "nbconvert_exporter": "python",
   "pygments_lexer": "ipython3",
   "version": "3.8.3"
  }
 },
 "nbformat": 4,
 "nbformat_minor": 4
}
