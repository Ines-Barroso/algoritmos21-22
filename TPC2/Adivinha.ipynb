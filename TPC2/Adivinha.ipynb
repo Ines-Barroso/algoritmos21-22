{
 "cells": [
  {
   "cell_type": "markdown",
   "metadata": {},
   "source": [
    "# TPC2\n",
    "### Jogo adivinhar o número\n",
    "* __Autor__: Inês Barroso, A95787\n",
    "* __Resumo__: O conceito deste jogo é o computador adivinhar o número que o utilizador está a pensar num mínimo de tentativas possível. Para tal recorremos sempre à metade da soma dos limites superior e inferior do intervalo. Este intervalo vai encurtando à medida que é perguntado se o número que pensa é maior ou menor, do que o resultado da divisão descrita. Se for maior o extremo mínimo muda, se for menor o extremo máximo difere. Para este efeito usei estruturas condicionais e input. Apliquei o _while_ como estrutura cíclica, crontrolada pela variável _resultado_ .O ciclo termina quando esta for diferente de zero. A variável _n_ é opcional, conta as tentativas até atingir o número correto.O método _upper_ diminui possibilidade de erro.\n"
   ]
  },
  {
   "cell_type": "code",
   "execution_count": 1,
   "metadata": {},
   "outputs": [
    {
     "name": "stdout",
     "output_type": "stream",
     "text": [
      "Escolha um número inteiro entre 0-100. \n",
      "O número que pensou é o 50?\n",
      "nao\n",
      "O número é maior ou menor que 50? (escreva maior ou menor)\n",
      "menor\n",
      "O número que pensou é o 25?\n",
      "nao\n",
      "O número é maior ou menor que 25? (escreva maior ou menor)\n",
      "maior\n",
      "O número que pensou é o 37?\n",
      "nao\n",
      "O número é maior ou menor que 37? (escreva maior ou menor)\n",
      "menor\n",
      "O número que pensou é o 31?\n",
      "nao\n",
      "O número é maior ou menor que 31? (escreva maior ou menor)\n",
      "menor\n",
      "O número que pensou é o 28?\n",
      "nao\n",
      "O número é maior ou menor que 28? (escreva maior ou menor)\n",
      "menor\n",
      "O número que pensou é o 26?\n",
      "sim\n",
      "O seu número foi adivinhado em 6 tentativas.\n"
     ]
    }
   ],
   "source": [
    "def funcao() :\n",
    "    print (\"Escolha um número inteiro entre 0-100. \")\n",
    "    n = 0\n",
    "    maximo = 100\n",
    "    minimo = 0\n",
    "    resultado = 0\n",
    "    while resultado == 0:\n",
    "        intervalo = maximo+minimo\n",
    "        medio = input(\"O número que pensou é o \" + str(int(intervalo/2)) + \"?\" + \"\\n\")\n",
    "        medio = medio.upper()\n",
    "        if medio == \"SIM\":\n",
    "            resultado = intervalo/2\n",
    "        elif medio == \"NAO\":\n",
    "            maiormenor = input(\"O número é maior ou menor que \" + str(int(intervalo/2)) + \"? (escreva maior ou menor)\" + \"\\n\")\n",
    "            maiormenor = maiormenor.upper()\n",
    "            if maiormenor == \"MAIOR\": \n",
    "                minimo = int((intervalo)/2)\n",
    "            elif maiormenor == \"MENOR\":\n",
    "                maximo = int((intervalo)/2)\n",
    "        n+=1\n",
    "    print (\"O seu número foi adivinhado em \" + str(n) + \" tentativas.\") \n",
    "    \n",
    "funcao()"
   ]
  },
  {
   "cell_type": "code",
   "execution_count": null,
   "metadata": {},
   "outputs": [],
   "source": []
  }
 ],
 "metadata": {
  "kernelspec": {
   "display_name": "Python 3",
   "language": "python",
   "name": "python3"
  },
  "language_info": {
   "codemirror_mode": {
    "name": "ipython",
    "version": 3
   },
   "file_extension": ".py",
   "mimetype": "text/x-python",
   "name": "python",
   "nbconvert_exporter": "python",
   "pygments_lexer": "ipython3",
   "version": "3.8.3"
  }
 },
 "nbformat": 4,
 "nbformat_minor": 4
}
